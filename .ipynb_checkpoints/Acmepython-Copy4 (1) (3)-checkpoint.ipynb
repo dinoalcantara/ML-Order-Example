{
 "cells": [
  {
   "cell_type": "code",
   "execution_count": 1,
   "id": "12c2ab3f",
   "metadata": {},
   "outputs": [],
   "source": [
    "import numpy as np\n",
    "import pandas as pd\n",
    "import matplotlib.pyplot as plt\n",
    "import seaborn as sns                       \n"
   ]
  },
  {
   "cell_type": "code",
   "execution_count": 2,
   "id": "94f54145",
   "metadata": {},
   "outputs": [],
   "source": [
    "df = pd.read_csv(\"ACME-HappinessSurvey2020 (1).csv\")"
   ]
  },
  {
   "cell_type": "code",
   "execution_count": 3,
   "id": "a0e35bdd",
   "metadata": {
    "scrolled": true
   },
   "outputs": [
    {
     "data": {
      "text/html": [
       "<div>\n",
       "<style scoped>\n",
       "    .dataframe tbody tr th:only-of-type {\n",
       "        vertical-align: middle;\n",
       "    }\n",
       "\n",
       "    .dataframe tbody tr th {\n",
       "        vertical-align: top;\n",
       "    }\n",
       "\n",
       "    .dataframe thead th {\n",
       "        text-align: right;\n",
       "    }\n",
       "</style>\n",
       "<table border=\"1\" class=\"dataframe\">\n",
       "  <thead>\n",
       "    <tr style=\"text-align: right;\">\n",
       "      <th></th>\n",
       "      <th>Y</th>\n",
       "      <th>X1</th>\n",
       "      <th>X2</th>\n",
       "      <th>X3</th>\n",
       "      <th>X4</th>\n",
       "      <th>X5</th>\n",
       "      <th>X6</th>\n",
       "    </tr>\n",
       "  </thead>\n",
       "  <tbody>\n",
       "    <tr>\n",
       "      <th>0</th>\n",
       "      <td>0</td>\n",
       "      <td>3</td>\n",
       "      <td>3</td>\n",
       "      <td>3</td>\n",
       "      <td>4</td>\n",
       "      <td>2</td>\n",
       "      <td>4</td>\n",
       "    </tr>\n",
       "    <tr>\n",
       "      <th>1</th>\n",
       "      <td>0</td>\n",
       "      <td>3</td>\n",
       "      <td>2</td>\n",
       "      <td>3</td>\n",
       "      <td>5</td>\n",
       "      <td>4</td>\n",
       "      <td>3</td>\n",
       "    </tr>\n",
       "    <tr>\n",
       "      <th>2</th>\n",
       "      <td>1</td>\n",
       "      <td>5</td>\n",
       "      <td>3</td>\n",
       "      <td>3</td>\n",
       "      <td>3</td>\n",
       "      <td>3</td>\n",
       "      <td>5</td>\n",
       "    </tr>\n",
       "    <tr>\n",
       "      <th>3</th>\n",
       "      <td>0</td>\n",
       "      <td>5</td>\n",
       "      <td>4</td>\n",
       "      <td>3</td>\n",
       "      <td>3</td>\n",
       "      <td>3</td>\n",
       "      <td>5</td>\n",
       "    </tr>\n",
       "    <tr>\n",
       "      <th>4</th>\n",
       "      <td>0</td>\n",
       "      <td>5</td>\n",
       "      <td>4</td>\n",
       "      <td>3</td>\n",
       "      <td>3</td>\n",
       "      <td>3</td>\n",
       "      <td>5</td>\n",
       "    </tr>\n",
       "  </tbody>\n",
       "</table>\n",
       "</div>"
      ],
      "text/plain": [
       "   Y  X1  X2  X3  X4  X5  X6\n",
       "0  0   3   3   3   4   2   4\n",
       "1  0   3   2   3   5   4   3\n",
       "2  1   5   3   3   3   3   5\n",
       "3  0   5   4   3   3   3   5\n",
       "4  0   5   4   3   3   3   5"
      ]
     },
     "execution_count": 3,
     "metadata": {},
     "output_type": "execute_result"
    }
   ],
   "source": [
    "df.head()\n"
   ]
  },
  {
   "cell_type": "code",
   "execution_count": 4,
   "id": "fa9c3882",
   "metadata": {},
   "outputs": [
    {
     "name": "stdout",
     "output_type": "stream",
     "text": [
      "<class 'pandas.core.frame.DataFrame'>\n",
      "RangeIndex: 126 entries, 0 to 125\n",
      "Data columns (total 7 columns):\n",
      " #   Column  Non-Null Count  Dtype\n",
      "---  ------  --------------  -----\n",
      " 0   Y       126 non-null    int64\n",
      " 1   X1      126 non-null    int64\n",
      " 2   X2      126 non-null    int64\n",
      " 3   X3      126 non-null    int64\n",
      " 4   X4      126 non-null    int64\n",
      " 5   X5      126 non-null    int64\n",
      " 6   X6      126 non-null    int64\n",
      "dtypes: int64(7)\n",
      "memory usage: 7.0 KB\n"
     ]
    }
   ],
   "source": [
    "df.info() #no null values noted\n",
    "#Description of Data\n",
    "#Y = target attribute (Y) with values indicating 0 (unhappy) and 1 (happy) customers\n",
    "#X1 = my order was delivered on time\n",
    "#X2 = contents of my order was as I expected\n",
    "#X3 = I ordered everything I wanted to order\n",
    "#X4 = I paid a good price for my order\n",
    "#X5 = I am satisfied with my courier\n",
    "#X6 = the app makes ordering easy for me"
   ]
  },
  {
   "cell_type": "code",
   "execution_count": 5,
   "id": "3c1558ed",
   "metadata": {},
   "outputs": [
    {
     "data": {
      "text/plain": [
       "array([4, 3, 5, 2, 1], dtype=int64)"
      ]
     },
     "execution_count": 5,
     "metadata": {},
     "output_type": "execute_result"
    }
   ],
   "source": [
    "df.X6.unique() #all of the features have ratings. Categorical variables."
   ]
  },
  {
   "cell_type": "code",
   "execution_count": 6,
   "id": "f06adf2f",
   "metadata": {},
   "outputs": [
    {
     "data": {
      "text/plain": [
       "(57, 69)"
      ]
     },
     "execution_count": 6,
     "metadata": {},
     "output_type": "execute_result"
    }
   ],
   "source": [
    "#creating happy =1 and sad = 0. This lets us seperate between happy and sad. This is a balanced class.\n",
    "df_happy = df[df['Y'] == 1]\n",
    "df_sad = df[df['Y'] == 0]\n",
    "# around 55% are happy while aroun 45% are unhappy. \n",
    "df[df['Y']==0]['Y'].count(), df[df['Y']==1]['Y'].count()"
   ]
  },
  {
   "cell_type": "code",
   "execution_count": 7,
   "id": "cbe584c5",
   "metadata": {},
   "outputs": [],
   "source": [
    "#Y = target attribute (Y) with values indicating 0 (unhappy) and 1 (happy) customers\n",
    "#X1 = my order was delivered on time\n",
    "#X2 = contents of my order was as I expected\n",
    "#X3 = I ordered everything I wanted to order\n",
    "#X4 = I paid a good price for my order\n",
    "#X5 = I am satisfied with my courier\n",
    "#X6 = the app makes ordering easy for me"
   ]
  },
  {
   "cell_type": "code",
   "execution_count": 8,
   "id": "7b7ca9d4",
   "metadata": {},
   "outputs": [
    {
     "data": {
      "image/png": "[encoded data removed]",
      "text/plain": [
       "<Figure size 1800x1000 with 6 Axes>"
      ]
     },
     "metadata": {},
     "output_type": "display_data"
    }
   ],
   "source": [
    "fig, axes = plt.subplots(2,3,figsize=(18,10))\n",
    "axes = [plot for row in axes for plot in row]\n",
    "#plt.legend(labels=['Unhappy', 'Happy'])\n",
    "for ind, feature in enumerate (['X1', 'X2', 'X3', 'X4', 'X5', 'X6']):\n",
    "    sns.countplot(x=df[feature], hue=df['Y'], ax=axes[ind])\n",
    "    axes[ind].legend(labels=['Unhappy', 'Happy'])"
   ]
  },
  {
   "cell_type": "code",
   "execution_count": 9,
   "id": "1f03dd50",
   "metadata": {
    "scrolled": true
   },
   "outputs": [
    {
     "data": {
      "text/html": [
       "<div>\n",
       "<style scoped>\n",
       "    .dataframe tbody tr th:only-of-type {\n",
       "        vertical-align: middle;\n",
       "    }\n",
       "\n",
       "    .dataframe tbody tr th {\n",
       "        vertical-align: top;\n",
       "    }\n",
       "\n",
       "    .dataframe thead th {\n",
       "        text-align: right;\n",
       "    }\n",
       "</style>\n",
       "<table border=\"1\" class=\"dataframe\">\n",
       "  <thead>\n",
       "    <tr style=\"text-align: right;\">\n",
       "      <th></th>\n",
       "      <th>Y</th>\n",
       "      <th>X1</th>\n",
       "      <th>X2</th>\n",
       "      <th>X3</th>\n",
       "      <th>X4</th>\n",
       "      <th>X5</th>\n",
       "      <th>X6</th>\n",
       "    </tr>\n",
       "  </thead>\n",
       "  <tbody>\n",
       "    <tr>\n",
       "      <th>count</th>\n",
       "      <td>126.000000</td>\n",
       "      <td>126.000000</td>\n",
       "      <td>126.000000</td>\n",
       "      <td>126.000000</td>\n",
       "      <td>126.000000</td>\n",
       "      <td>126.000000</td>\n",
       "      <td>126.000000</td>\n",
       "    </tr>\n",
       "    <tr>\n",
       "      <th>mean</th>\n",
       "      <td>0.547619</td>\n",
       "      <td>4.333333</td>\n",
       "      <td>2.531746</td>\n",
       "      <td>3.309524</td>\n",
       "      <td>3.746032</td>\n",
       "      <td>3.650794</td>\n",
       "      <td>4.253968</td>\n",
       "    </tr>\n",
       "    <tr>\n",
       "      <th>std</th>\n",
       "      <td>0.499714</td>\n",
       "      <td>0.800000</td>\n",
       "      <td>1.114892</td>\n",
       "      <td>1.023440</td>\n",
       "      <td>0.875776</td>\n",
       "      <td>1.147641</td>\n",
       "      <td>0.809311</td>\n",
       "    </tr>\n",
       "    <tr>\n",
       "      <th>min</th>\n",
       "      <td>0.000000</td>\n",
       "      <td>1.000000</td>\n",
       "      <td>1.000000</td>\n",
       "      <td>1.000000</td>\n",
       "      <td>1.000000</td>\n",
       "      <td>1.000000</td>\n",
       "      <td>1.000000</td>\n",
       "    </tr>\n",
       "    <tr>\n",
       "      <th>25%</th>\n",
       "      <td>0.000000</td>\n",
       "      <td>4.000000</td>\n",
       "      <td>2.000000</td>\n",
       "      <td>3.000000</td>\n",
       "      <td>3.000000</td>\n",
       "      <td>3.000000</td>\n",
       "      <td>4.000000</td>\n",
       "    </tr>\n",
       "    <tr>\n",
       "      <th>50%</th>\n",
       "      <td>1.000000</td>\n",
       "      <td>5.000000</td>\n",
       "      <td>3.000000</td>\n",
       "      <td>3.000000</td>\n",
       "      <td>4.000000</td>\n",
       "      <td>4.000000</td>\n",
       "      <td>4.000000</td>\n",
       "    </tr>\n",
       "    <tr>\n",
       "      <th>75%</th>\n",
       "      <td>1.000000</td>\n",
       "      <td>5.000000</td>\n",
       "      <td>3.000000</td>\n",
       "      <td>4.000000</td>\n",
       "      <td>4.000000</td>\n",
       "      <td>4.000000</td>\n",
       "      <td>5.000000</td>\n",
       "    </tr>\n",
       "    <tr>\n",
       "      <th>max</th>\n",
       "      <td>1.000000</td>\n",
       "      <td>5.000000</td>\n",
       "      <td>5.000000</td>\n",
       "      <td>5.000000</td>\n",
       "      <td>5.000000</td>\n",
       "      <td>5.000000</td>\n",
       "      <td>5.000000</td>\n",
       "    </tr>\n",
       "  </tbody>\n",
       "</table>\n",
       "</div>"
      ],
      "text/plain": [
       "                Y          X1          X2          X3          X4          X5  \\\n",
       "count  126.000000  126.000000  126.000000  126.000000  126.000000  126.000000   \n",
       "mean     0.547619    4.333333    2.531746    3.309524    3.746032    3.650794   \n",
       "std      0.499714    0.800000    1.114892    1.023440    0.875776    1.147641   \n",
       "min      0.000000    1.000000    1.000000    1.000000    1.000000    1.000000   \n",
       "25%      0.000000    4.000000    2.000000    3.000000    3.000000    3.000000   \n",
       "50%      1.000000    5.000000    3.000000    3.000000    4.000000    4.000000   \n",
       "75%      1.000000    5.000000    3.000000    4.000000    4.000000    4.000000   \n",
       "max      1.000000    5.000000    5.000000    5.000000    5.000000    5.000000   \n",
       "\n",
       "               X6  \n",
       "count  126.000000  \n",
       "mean     4.253968  \n",
       "std      0.809311  \n",
       "min      1.000000  \n",
       "25%      4.000000  \n",
       "50%      4.000000  \n",
       "75%      5.000000  \n",
       "max      5.000000  "
      ]
     },
     "execution_count": 9,
     "metadata": {},
     "output_type": "execute_result"
    }
   ],
   "source": [
    "# Description of statistical information\n",
    "# y mean = 54.7% , this means that slightly more customers are happy than sad\n",
    "\n",
    "# x1 mean = 4.3   x2 mean = 2.5   x3 mean = 3.3  x5 mean = 3.6    x6 mean = 4.2\n",
    "\n",
    "# x1 top 75% = 5.0, 25% = 4.0   This means that x1 scores are mostly between 4 and 5\n",
    "df.describe()"
   ]
  },
  {
   "cell_type": "code",
   "execution_count": 10,
   "id": "78813cca",
   "metadata": {},
   "outputs": [],
   "source": [
    "df = df.rename(columns={\"Score\": \"Y\"})\n"
   ]
  },
  {
   "cell_type": "code",
   "execution_count": 11,
   "id": "edf0ad9a",
   "metadata": {},
   "outputs": [
    {
     "data": {
      "text/plain": [
       "<Axes: xlabel='X1'>"
      ]
     },
     "execution_count": 11,
     "metadata": {},
     "output_type": "execute_result"
    },
    {
     "data": {
      "image/png": "[encoded data removed]",
      "text/plain": [
       "<Figure size 640x480 with 1 Axes>"
      ]
     },
     "metadata": {},
     "output_type": "display_data"
    }
   ],
   "source": [
    "#X1 boxplot showing a score leaning towards 4.0 and 5.0\n",
    "sns.boxplot(x=df['X1'])"
   ]
  },
  {
   "cell_type": "code",
   "execution_count": 12,
   "id": "303558d7",
   "metadata": {},
   "outputs": [
    {
     "data": {
      "text/plain": [
       "<Axes: xlabel='X2'>"
      ]
     },
     "execution_count": 12,
     "metadata": {},
     "output_type": "execute_result"
    },
    {
     "data": {
      "image/png": "[encoded data removed]",
      "text/plain": [
       "<Figure size 640x480 with 1 Axes>"
      ]
     },
     "metadata": {},
     "output_type": "display_data"
    }
   ],
   "source": [
    "#x2 boxplot showing scores between 2.0 and 3.0\n",
    "sns.boxplot(x=df['X2'])"
   ]
  },
  {
   "cell_type": "code",
   "execution_count": 13,
   "id": "abc7d5b9",
   "metadata": {},
   "outputs": [
    {
     "data": {
      "text/plain": [
       "<Axes: xlabel='X3'>"
      ]
     },
     "execution_count": 13,
     "metadata": {},
     "output_type": "execute_result"
    },
    {
     "data": {
      "image/png": "[encoded data removed]",
      "text/plain": [
       "<Figure size 640x480 with 1 Axes>"
      ]
     },
     "metadata": {},
     "output_type": "display_data"
    }
   ],
   "source": [
    "#x3 boxplot showing score between 3.0 and 4.0\n",
    "sns.boxplot(x=df['X3'])"
   ]
  },
  {
   "cell_type": "code",
   "execution_count": 14,
   "id": "e936a25c",
   "metadata": {},
   "outputs": [
    {
     "data": {
      "text/plain": [
       "<Axes: xlabel='X4'>"
      ]
     },
     "execution_count": 14,
     "metadata": {},
     "output_type": "execute_result"
    },
    {
     "data": {
      "image/png": "[encoded data removed]",
      "text/plain": [
       "<Figure size 640x480 with 1 Axes>"
      ]
     },
     "metadata": {},
     "output_type": "display_data"
    }
   ],
   "source": [
    "#x4 boxplot showing scores between 3.0 and 4.0\n",
    "sns.boxplot(x=df['X4'])"
   ]
  },
  {
   "cell_type": "code",
   "execution_count": 15,
   "id": "a04b7d91",
   "metadata": {},
   "outputs": [
    {
     "data": {
      "text/plain": [
       "<Axes: xlabel='X5'>"
      ]
     },
     "execution_count": 15,
     "metadata": {},
     "output_type": "execute_result"
    },
    {
     "data": {
      "image/png": "[encoded data removed]",
      "text/plain": [
       "<Figure size 640x480 with 1 Axes>"
      ]
     },
     "metadata": {},
     "output_type": "display_data"
    }
   ],
   "source": [
    "#x5 boxplot showing scores between 3.0 and 4.0\n",
    "sns.boxplot(x=df['X5'])"
   ]
  },
  {
   "cell_type": "code",
   "execution_count": 16,
   "id": "043d7cb9",
   "metadata": {},
   "outputs": [
    {
     "data": {
      "text/plain": [
       "<Axes: xlabel='X6'>"
      ]
     },
     "execution_count": 16,
     "metadata": {},
     "output_type": "execute_result"
    },
    {
     "data": {
      "image/png": "[encoded data removed]",
      "text/plain": [
       "<Figure size 640x480 with 1 Axes>"
      ]
     },
     "metadata": {},
     "output_type": "display_data"
    }
   ],
   "source": [
    "#x6 boxplot showing scores between 4.0 and 5.0. \n",
    "sns.boxplot(x=df['X6'])"
   ]
  },
  {
   "cell_type": "code",
   "execution_count": 17,
   "id": "a0c28781",
   "metadata": {},
   "outputs": [
    {
     "data": {
      "text/html": [
       "<div>\n",
       "<style scoped>\n",
       "    .dataframe tbody tr th:only-of-type {\n",
       "        vertical-align: middle;\n",
       "    }\n",
       "\n",
       "    .dataframe tbody tr th {\n",
       "        vertical-align: top;\n",
       "    }\n",
       "\n",
       "    .dataframe thead th {\n",
       "        text-align: right;\n",
       "    }\n",
       "</style>\n",
       "<table border=\"1\" class=\"dataframe\">\n",
       "  <thead>\n",
       "    <tr style=\"text-align: right;\">\n",
       "      <th></th>\n",
       "      <th>Y</th>\n",
       "      <th>X1</th>\n",
       "      <th>X2</th>\n",
       "      <th>X3</th>\n",
       "      <th>X4</th>\n",
       "      <th>X5</th>\n",
       "      <th>X6</th>\n",
       "    </tr>\n",
       "  </thead>\n",
       "  <tbody>\n",
       "    <tr>\n",
       "      <th>Y</th>\n",
       "      <td>1.000000</td>\n",
       "      <td>0.280160</td>\n",
       "      <td>-0.024274</td>\n",
       "      <td>0.150838</td>\n",
       "      <td>0.064415</td>\n",
       "      <td>0.224522</td>\n",
       "      <td>0.167669</td>\n",
       "    </tr>\n",
       "    <tr>\n",
       "      <th>X1</th>\n",
       "      <td>0.280160</td>\n",
       "      <td>1.000000</td>\n",
       "      <td>0.059797</td>\n",
       "      <td>0.283358</td>\n",
       "      <td>0.087541</td>\n",
       "      <td>0.432772</td>\n",
       "      <td>0.411873</td>\n",
       "    </tr>\n",
       "    <tr>\n",
       "      <th>X2</th>\n",
       "      <td>-0.024274</td>\n",
       "      <td>0.059797</td>\n",
       "      <td>1.000000</td>\n",
       "      <td>0.184129</td>\n",
       "      <td>0.114838</td>\n",
       "      <td>0.039996</td>\n",
       "      <td>-0.062205</td>\n",
       "    </tr>\n",
       "    <tr>\n",
       "      <th>X3</th>\n",
       "      <td>0.150838</td>\n",
       "      <td>0.283358</td>\n",
       "      <td>0.184129</td>\n",
       "      <td>1.000000</td>\n",
       "      <td>0.302618</td>\n",
       "      <td>0.358397</td>\n",
       "      <td>0.203750</td>\n",
       "    </tr>\n",
       "    <tr>\n",
       "      <th>X4</th>\n",
       "      <td>0.064415</td>\n",
       "      <td>0.087541</td>\n",
       "      <td>0.114838</td>\n",
       "      <td>0.302618</td>\n",
       "      <td>1.000000</td>\n",
       "      <td>0.293115</td>\n",
       "      <td>0.215888</td>\n",
       "    </tr>\n",
       "    <tr>\n",
       "      <th>X5</th>\n",
       "      <td>0.224522</td>\n",
       "      <td>0.432772</td>\n",
       "      <td>0.039996</td>\n",
       "      <td>0.358397</td>\n",
       "      <td>0.293115</td>\n",
       "      <td>1.000000</td>\n",
       "      <td>0.320195</td>\n",
       "    </tr>\n",
       "    <tr>\n",
       "      <th>X6</th>\n",
       "      <td>0.167669</td>\n",
       "      <td>0.411873</td>\n",
       "      <td>-0.062205</td>\n",
       "      <td>0.203750</td>\n",
       "      <td>0.215888</td>\n",
       "      <td>0.320195</td>\n",
       "      <td>1.000000</td>\n",
       "    </tr>\n",
       "  </tbody>\n",
       "</table>\n",
       "</div>"
      ],
      "text/plain": [
       "           Y        X1        X2        X3        X4        X5        X6\n",
       "Y   1.000000  0.280160 -0.024274  0.150838  0.064415  0.224522  0.167669\n",
       "X1  0.280160  1.000000  0.059797  0.283358  0.087541  0.432772  0.411873\n",
       "X2 -0.024274  0.059797  1.000000  0.184129  0.114838  0.039996 -0.062205\n",
       "X3  0.150838  0.283358  0.184129  1.000000  0.302618  0.358397  0.203750\n",
       "X4  0.064415  0.087541  0.114838  0.302618  1.000000  0.293115  0.215888\n",
       "X5  0.224522  0.432772  0.039996  0.358397  0.293115  1.000000  0.320195\n",
       "X6  0.167669  0.411873 -0.062205  0.203750  0.215888  0.320195  1.000000"
      ]
     },
     "execution_count": 17,
     "metadata": {},
     "output_type": "execute_result"
    },
    {
     "data": {
      "image/png": "[encoded data removed]",
      "text/plain": [
       "<Figure size 1000x500 with 2 Axes>"
      ]
     },
     "metadata": {},
     "output_type": "display_data"
    }
   ],
   "source": [
    "#Heatmap, relations between variables\n",
    "\n",
    "#x1 to x2 = .06 correlation       #x2 to x3 =  .18     #x3 to x4 =   .3      #x4 to x5 = .29        #x5 to x6 = .32     \n",
    "#x1 to x3=  .28 correlation       #x2 to x4 =  .11     #x3 to x5 =   .36     #x4 to x6 = .22                                           \n",
    "#x1 to x4=  .088 correlation      #x2 to x5 =  .04     #x3 to x6 =   .2                             \n",
    "#x1 to x5=  .43 correlation       #x2 to x6 = -.062    \n",
    "#x1 to x6=  .41 correlation        \n",
    "\n",
    "\n",
    "plt.figure(figsize=(10,5))\n",
    "c= df.corr()\n",
    "sns.heatmap(c,cmap=\"BrBG\",annot=True)\n",
    "c"
   ]
  },
  {
   "cell_type": "code",
   "execution_count": 18,
   "id": "bfbe0bf8",
   "metadata": {},
   "outputs": [
    {
     "data": {
      "text/plain": [
       "5    65\n",
       "4    40\n",
       "3    20\n",
       "1     1\n",
       "Name: X1, dtype: int64"
      ]
     },
     "execution_count": 18,
     "metadata": {},
     "output_type": "execute_result"
    }
   ],
   "source": [
    "df[\"X1\"].value_counts()\n"
   ]
  },
  {
   "cell_type": "code",
   "execution_count": 19,
   "id": "dae42eb5",
   "metadata": {},
   "outputs": [
    {
     "data": {
      "text/plain": [
       "3    42\n",
       "2    34\n",
       "1    27\n",
       "4    17\n",
       "5     6\n",
       "Name: X2, dtype: int64"
      ]
     },
     "execution_count": 19,
     "metadata": {},
     "output_type": "execute_result"
    }
   ],
   "source": [
    "df[\"X2\"].value_counts()\n"
   ]
  },
  {
   "cell_type": "code",
   "execution_count": 20,
   "id": "844560c9",
   "metadata": {
    "scrolled": true
   },
   "outputs": [
    {
     "data": {
      "text/plain": [
       "3    55\n",
       "4    33\n",
       "5    17\n",
       "2    14\n",
       "1     7\n",
       "Name: X3, dtype: int64"
      ]
     },
     "execution_count": 20,
     "metadata": {},
     "output_type": "execute_result"
    }
   ],
   "source": [
    "\n",
    "df[\"X3\"].value_counts()"
   ]
  },
  {
   "cell_type": "code",
   "execution_count": 21,
   "id": "e1793dde",
   "metadata": {
    "scrolled": true
   },
   "outputs": [
    {
     "data": {
      "text/plain": [
       "4    53\n",
       "3    41\n",
       "5    25\n",
       "2     5\n",
       "1     2\n",
       "Name: X4, dtype: int64"
      ]
     },
     "execution_count": 21,
     "metadata": {},
     "output_type": "execute_result"
    }
   ],
   "source": [
    "df[\"X4\"].value_counts()"
   ]
  },
  {
   "cell_type": "code",
   "execution_count": 22,
   "id": "d62c475b",
   "metadata": {},
   "outputs": [
    {
     "data": {
      "text/plain": [
       "4    50\n",
       "5    31\n",
       "3    22\n",
       "2    16\n",
       "1     7\n",
       "Name: X5, dtype: int64"
      ]
     },
     "execution_count": 22,
     "metadata": {},
     "output_type": "execute_result"
    }
   ],
   "source": [
    "df[\"X5\"].value_counts()"
   ]
  },
  {
   "cell_type": "code",
   "execution_count": 23,
   "id": "35ef8caf",
   "metadata": {},
   "outputs": [
    {
     "data": {
      "text/plain": [
       "5    57\n",
       "4    47\n",
       "3    20\n",
       "2     1\n",
       "1     1\n",
       "Name: X6, dtype: int64"
      ]
     },
     "execution_count": 23,
     "metadata": {},
     "output_type": "execute_result"
    }
   ],
   "source": [
    "df[\"X6\"].value_counts()"
   ]
  },
  {
   "cell_type": "code",
   "execution_count": 24,
   "id": "66fc5fa5",
   "metadata": {},
   "outputs": [
    {
     "name": "stdout",
     "output_type": "stream",
     "text": [
      "Requirement already satisfied: xgboost in c:\\users\\dsalc\\anaconda3\\lib\\site-packages (2.0.3)\n",
      "Requirement already satisfied: numpy in c:\\users\\dsalc\\anaconda3\\lib\\site-packages (from xgboost) (1.23.5)\n",
      "Requirement already satisfied: scipy in c:\\users\\dsalc\\anaconda3\\lib\\site-packages (from xgboost) (1.10.1)\n"
     ]
    }
   ],
   "source": [
    "import sys\n",
    "!{sys.executable} -m pip install xgboost"
   ]
  },
  {
   "cell_type": "code",
   "execution_count": 25,
   "id": "ecd5b2a6",
   "metadata": {},
   "outputs": [],
   "source": [
    "#import libraries for training and testing several ML models\n",
    "from sklearn.model_selection import train_test_split\n",
    "from sklearn.ensemble import RandomForestClassifier\n",
    "from sklearn.linear_model import LogisticRegression\n",
    "from sklearn.svm import SVC\n",
    "from xgboost import XGBClassifier\n",
    "from sklearn.metrics import confusion_matrix, classification_report, accuracy_score\n",
    "from sklearn.metrics import f1_score\n",
    "from sklearn.metrics import recall_score\n",
    "from sklearn.metrics import precision_score"
   ]
  },
  {
   "cell_type": "code",
   "execution_count": 26,
   "id": "341ab3bc",
   "metadata": {},
   "outputs": [],
   "source": [
    "#Define a function to sequentially test Logistic Regression, Support Vector, Random Forest Classifier and XG Boost Classifier\n",
    "# models\n",
    "\n",
    "def model_sequence(df, rand_state):\n",
    "    \"\"\" \n",
    "    Input: Dataframe, random state for train-test split\n",
    "    Output : Dataframe containining training and testing accuracy scores, precision, recall and f1-score\n",
    "    Output : Feature importances for the Random Forest and XG Boost models\n",
    "    \"\"\"\n",
    "    X = df.drop('Y', axis=1)\n",
    "    y = df.Y\n",
    "    X_train, X_test, y_train, y_test = train_test_split(X,y,test_size = 0.3, random_state = rand_state)\n",
    "\n",
    "    score_dict = {'Logistic Regression':{},\n",
    "                  'Support Vector':{},\n",
    "                  'Random Forest':{}, \n",
    "                  'XG Boost':{}\n",
    "                 }\n",
    "    \n",
    "    def score_dict_edit (key, ML_model):\n",
    "        ML_model.fit(X_train, y_train)\n",
    "        train_pred = ML_model.predict(X_train)\n",
    "        test_pred = ML_model.predict(X_test)\n",
    "        score_dict[key]['Train Accuracy'] = accuracy_score(y_train, train_pred)\n",
    "        score_dict[key]['Test Accuracy'] = accuracy_score(y_test, test_pred)\n",
    "        score_dict[key]['Precision GP 0'] = precision_score(y_test, test_pred, average=None)[0]\n",
    "        score_dict[key]['Precision GP 1'] = precision_score(y_test, test_pred, average=None)[1]\n",
    "        score_dict[key]['Recall GP 0'] = recall_score(y_test, test_pred, average=None)[0]\n",
    "        score_dict[key]['Recall GP 1'] = recall_score(y_test, test_pred, average=None)[1]\n",
    "        score_dict[key]['F1 Score GP 0'] = f1_score(y_test, test_pred, average=None)[0]\n",
    "        score_dict[key]['F1 Score GP 1'] = f1_score(y_test, test_pred, average=None)[1]\n",
    "\n",
    "\n",
    "    # create objects for the ML models to be tested \n",
    "    model_logreg = LogisticRegression(max_iter=1000, C=1)\n",
    "    model_SVC=SVC(kernel='rbf', C=5, gamma='auto')\n",
    "    model_rfc = RandomForestClassifier(n_estimators = 200)\n",
    "    model_xgb = XGBClassifier(use_label_encoder=False, eval_metric='mlogloss', n_estimators=100, learning_rate=0.5, max_depth=5)\n",
    "\n",
    "    models=[model_logreg, model_SVC, model_rfc, model_xgb]\n",
    "\n",
    "    for model in models:\n",
    "\n",
    "        if model==model_logreg:\n",
    "            score_dict_edit ('Logistic Regression', model_logreg)\n",
    "        elif model==model_SVC:\n",
    "            score_dict_edit ('Support Vector', model_SVC)\n",
    "        elif model==model_rfc:\n",
    "            score_dict_edit ('Random Forest', model_rfc)\n",
    "        else:\n",
    "            score_dict_edit ('XG Boost', model_xgb)\n",
    "    df_metrics=pd.DataFrame(score_dict).transpose()\n",
    "    rfc_imp = pd.DataFrame({'Feature':X.columns, 'Importance':model_rfc.feature_importances_}).sort_values(by='Importance', ascending=False)\n",
    "    xgb_imp = pd.DataFrame({'Feature':X.columns, 'Importance':model_xgb.feature_importances_}).sort_values(by='Importance', ascending=False)\n",
    "    return df_metrics, rfc_imp, xgb_imp"
   ]
  },
  {
   "cell_type": "code",
   "execution_count": 27,
   "id": "f104b553",
   "metadata": {},
   "outputs": [],
   "source": [
    "df_metrics, rfc_imp, xgb_imp = model_sequence(df, 5)"
   ]
  },
  {
   "cell_type": "code",
   "execution_count": 28,
   "id": "698fb398",
   "metadata": {},
   "outputs": [
    {
     "data": {
      "text/html": [
       "<div>\n",
       "<style scoped>\n",
       "    .dataframe tbody tr th:only-of-type {\n",
       "        vertical-align: middle;\n",
       "    }\n",
       "\n",
       "    .dataframe tbody tr th {\n",
       "        vertical-align: top;\n",
       "    }\n",
       "\n",
       "    .dataframe thead th {\n",
       "        text-align: right;\n",
       "    }\n",
       "</style>\n",
       "<table border=\"1\" class=\"dataframe\">\n",
       "  <thead>\n",
       "    <tr style=\"text-align: right;\">\n",
       "      <th></th>\n",
       "      <th>Train Accuracy</th>\n",
       "      <th>Test Accuracy</th>\n",
       "      <th>Precision GP 0</th>\n",
       "      <th>Precision GP 1</th>\n",
       "      <th>Recall GP 0</th>\n",
       "      <th>Recall GP 1</th>\n",
       "      <th>F1 Score GP 0</th>\n",
       "      <th>F1 Score GP 1</th>\n",
       "    </tr>\n",
       "  </thead>\n",
       "  <tbody>\n",
       "    <tr>\n",
       "      <th>Logistic Regression</th>\n",
       "      <td>0.659091</td>\n",
       "      <td>0.526316</td>\n",
       "      <td>0.428571</td>\n",
       "      <td>0.583333</td>\n",
       "      <td>0.3750</td>\n",
       "      <td>0.636364</td>\n",
       "      <td>0.400000</td>\n",
       "      <td>0.608696</td>\n",
       "    </tr>\n",
       "    <tr>\n",
       "      <th>Support Vector</th>\n",
       "      <td>0.829545</td>\n",
       "      <td>0.631579</td>\n",
       "      <td>0.583333</td>\n",
       "      <td>0.653846</td>\n",
       "      <td>0.4375</td>\n",
       "      <td>0.772727</td>\n",
       "      <td>0.500000</td>\n",
       "      <td>0.708333</td>\n",
       "    </tr>\n",
       "    <tr>\n",
       "      <th>Random Forest</th>\n",
       "      <td>0.943182</td>\n",
       "      <td>0.631579</td>\n",
       "      <td>0.571429</td>\n",
       "      <td>0.666667</td>\n",
       "      <td>0.5000</td>\n",
       "      <td>0.727273</td>\n",
       "      <td>0.533333</td>\n",
       "      <td>0.695652</td>\n",
       "    </tr>\n",
       "    <tr>\n",
       "      <th>XG Boost</th>\n",
       "      <td>0.931818</td>\n",
       "      <td>0.578947</td>\n",
       "      <td>0.500000</td>\n",
       "      <td>0.625000</td>\n",
       "      <td>0.4375</td>\n",
       "      <td>0.681818</td>\n",
       "      <td>0.466667</td>\n",
       "      <td>0.652174</td>\n",
       "    </tr>\n",
       "  </tbody>\n",
       "</table>\n",
       "</div>"
      ],
      "text/plain": [
       "                     Train Accuracy  Test Accuracy  Precision GP 0  \\\n",
       "Logistic Regression        0.659091       0.526316        0.428571   \n",
       "Support Vector             0.829545       0.631579        0.583333   \n",
       "Random Forest              0.943182       0.631579        0.571429   \n",
       "XG Boost                   0.931818       0.578947        0.500000   \n",
       "\n",
       "                     Precision GP 1  Recall GP 0  Recall GP 1  F1 Score GP 0  \\\n",
       "Logistic Regression        0.583333       0.3750     0.636364       0.400000   \n",
       "Support Vector             0.653846       0.4375     0.772727       0.500000   \n",
       "Random Forest              0.666667       0.5000     0.727273       0.533333   \n",
       "XG Boost                   0.625000       0.4375     0.681818       0.466667   \n",
       "\n",
       "                     F1 Score GP 1  \n",
       "Logistic Regression       0.608696  \n",
       "Support Vector            0.708333  \n",
       "Random Forest             0.695652  \n",
       "XG Boost                  0.652174  "
      ]
     },
     "execution_count": 28,
     "metadata": {},
     "output_type": "execute_result"
    }
   ],
   "source": [
    "df_metrics"
   ]
  },
  {
   "cell_type": "code",
   "execution_count": 29,
   "id": "23905c48",
   "metadata": {},
   "outputs": [
    {
     "data": {
      "text/html": [
       "<div>\n",
       "<style scoped>\n",
       "    .dataframe tbody tr th:only-of-type {\n",
       "        vertical-align: middle;\n",
       "    }\n",
       "\n",
       "    .dataframe tbody tr th {\n",
       "        vertical-align: top;\n",
       "    }\n",
       "\n",
       "    .dataframe thead th {\n",
       "        text-align: right;\n",
       "    }\n",
       "</style>\n",
       "<table border=\"1\" class=\"dataframe\">\n",
       "  <thead>\n",
       "    <tr style=\"text-align: right;\">\n",
       "      <th></th>\n",
       "      <th>Feature</th>\n",
       "      <th>Importance</th>\n",
       "    </tr>\n",
       "  </thead>\n",
       "  <tbody>\n",
       "    <tr>\n",
       "      <th>4</th>\n",
       "      <td>X5</td>\n",
       "      <td>0.216618</td>\n",
       "    </tr>\n",
       "    <tr>\n",
       "      <th>1</th>\n",
       "      <td>X2</td>\n",
       "      <td>0.203929</td>\n",
       "    </tr>\n",
       "    <tr>\n",
       "      <th>2</th>\n",
       "      <td>X3</td>\n",
       "      <td>0.192318</td>\n",
       "    </tr>\n",
       "    <tr>\n",
       "      <th>0</th>\n",
       "      <td>X1</td>\n",
       "      <td>0.141482</td>\n",
       "    </tr>\n",
       "    <tr>\n",
       "      <th>3</th>\n",
       "      <td>X4</td>\n",
       "      <td>0.125169</td>\n",
       "    </tr>\n",
       "    <tr>\n",
       "      <th>5</th>\n",
       "      <td>X6</td>\n",
       "      <td>0.120486</td>\n",
       "    </tr>\n",
       "  </tbody>\n",
       "</table>\n",
       "</div>"
      ],
      "text/plain": [
       "  Feature  Importance\n",
       "4      X5    0.216618\n",
       "1      X2    0.203929\n",
       "2      X3    0.192318\n",
       "0      X1    0.141482\n",
       "3      X4    0.125169\n",
       "5      X6    0.120486"
      ]
     },
     "execution_count": 29,
     "metadata": {},
     "output_type": "execute_result"
    }
   ],
   "source": [
    "rfc_imp"
   ]
  },
  {
   "cell_type": "code",
   "execution_count": 30,
   "id": "5e3edf95",
   "metadata": {},
   "outputs": [
    {
     "data": {
      "text/html": [
       "<div>\n",
       "<style scoped>\n",
       "    .dataframe tbody tr th:only-of-type {\n",
       "        vertical-align: middle;\n",
       "    }\n",
       "\n",
       "    .dataframe tbody tr th {\n",
       "        vertical-align: top;\n",
       "    }\n",
       "\n",
       "    .dataframe thead th {\n",
       "        text-align: right;\n",
       "    }\n",
       "</style>\n",
       "<table border=\"1\" class=\"dataframe\">\n",
       "  <thead>\n",
       "    <tr style=\"text-align: right;\">\n",
       "      <th></th>\n",
       "      <th>Feature</th>\n",
       "      <th>Importance</th>\n",
       "    </tr>\n",
       "  </thead>\n",
       "  <tbody>\n",
       "    <tr>\n",
       "      <th>2</th>\n",
       "      <td>X3</td>\n",
       "      <td>0.218585</td>\n",
       "    </tr>\n",
       "    <tr>\n",
       "      <th>4</th>\n",
       "      <td>X5</td>\n",
       "      <td>0.195076</td>\n",
       "    </tr>\n",
       "    <tr>\n",
       "      <th>1</th>\n",
       "      <td>X2</td>\n",
       "      <td>0.168519</td>\n",
       "    </tr>\n",
       "    <tr>\n",
       "      <th>0</th>\n",
       "      <td>X1</td>\n",
       "      <td>0.167231</td>\n",
       "    </tr>\n",
       "    <tr>\n",
       "      <th>3</th>\n",
       "      <td>X4</td>\n",
       "      <td>0.141676</td>\n",
       "    </tr>\n",
       "    <tr>\n",
       "      <th>5</th>\n",
       "      <td>X6</td>\n",
       "      <td>0.108914</td>\n",
       "    </tr>\n",
       "  </tbody>\n",
       "</table>\n",
       "</div>"
      ],
      "text/plain": [
       "  Feature  Importance\n",
       "2      X3    0.218585\n",
       "4      X5    0.195076\n",
       "1      X2    0.168519\n",
       "0      X1    0.167231\n",
       "3      X4    0.141676\n",
       "5      X6    0.108914"
      ]
     },
     "execution_count": 30,
     "metadata": {},
     "output_type": "execute_result"
    }
   ],
   "source": [
    "#Checking feature importance in the XG Boost Model\n",
    "xgb_imp"
   ]
  },
  {
   "cell_type": "code",
   "execution_count": 31,
   "id": "416d55fc",
   "metadata": {},
   "outputs": [],
   "source": [
    "df2 = df.drop(['X6'], axis=1)\n",
    "# Drop X6 (usefulness of the app), appears to be the least important feature.\n",
    "# Create a new dataframe df2 with just the single feature X6 being droppped"
   ]
  },
  {
   "cell_type": "code",
   "execution_count": 32,
   "id": "ec17e4c6",
   "metadata": {},
   "outputs": [],
   "source": [
    "df_metrics2, rfc_imp2, xgb_imp2 = model_sequence(df2, 3)"
   ]
  },
  {
   "cell_type": "code",
   "execution_count": 33,
   "id": "23da28a7",
   "metadata": {},
   "outputs": [
    {
     "data": {
      "text/html": [
       "<div>\n",
       "<style scoped>\n",
       "    .dataframe tbody tr th:only-of-type {\n",
       "        vertical-align: middle;\n",
       "    }\n",
       "\n",
       "    .dataframe tbody tr th {\n",
       "        vertical-align: top;\n",
       "    }\n",
       "\n",
       "    .dataframe thead th {\n",
       "        text-align: right;\n",
       "    }\n",
       "</style>\n",
       "<table border=\"1\" class=\"dataframe\">\n",
       "  <thead>\n",
       "    <tr style=\"text-align: right;\">\n",
       "      <th></th>\n",
       "      <th>Train Accuracy</th>\n",
       "      <th>Test Accuracy</th>\n",
       "      <th>Precision GP 0</th>\n",
       "      <th>Precision GP 1</th>\n",
       "      <th>Recall GP 0</th>\n",
       "      <th>Recall GP 1</th>\n",
       "      <th>F1 Score GP 0</th>\n",
       "      <th>F1 Score GP 1</th>\n",
       "    </tr>\n",
       "  </thead>\n",
       "  <tbody>\n",
       "    <tr>\n",
       "      <th>Logistic Regression</th>\n",
       "      <td>0.534091</td>\n",
       "      <td>0.657895</td>\n",
       "      <td>0.700000</td>\n",
       "      <td>0.642857</td>\n",
       "      <td>0.411765</td>\n",
       "      <td>0.857143</td>\n",
       "      <td>0.518519</td>\n",
       "      <td>0.734694</td>\n",
       "    </tr>\n",
       "    <tr>\n",
       "      <th>Support Vector</th>\n",
       "      <td>0.795455</td>\n",
       "      <td>0.578947</td>\n",
       "      <td>0.533333</td>\n",
       "      <td>0.608696</td>\n",
       "      <td>0.470588</td>\n",
       "      <td>0.666667</td>\n",
       "      <td>0.500000</td>\n",
       "      <td>0.636364</td>\n",
       "    </tr>\n",
       "    <tr>\n",
       "      <th>Random Forest</th>\n",
       "      <td>0.886364</td>\n",
       "      <td>0.763158</td>\n",
       "      <td>0.833333</td>\n",
       "      <td>0.730769</td>\n",
       "      <td>0.588235</td>\n",
       "      <td>0.904762</td>\n",
       "      <td>0.689655</td>\n",
       "      <td>0.808511</td>\n",
       "    </tr>\n",
       "    <tr>\n",
       "      <th>XG Boost</th>\n",
       "      <td>0.886364</td>\n",
       "      <td>0.763158</td>\n",
       "      <td>0.750000</td>\n",
       "      <td>0.772727</td>\n",
       "      <td>0.705882</td>\n",
       "      <td>0.809524</td>\n",
       "      <td>0.727273</td>\n",
       "      <td>0.790698</td>\n",
       "    </tr>\n",
       "  </tbody>\n",
       "</table>\n",
       "</div>"
      ],
      "text/plain": [
       "                     Train Accuracy  Test Accuracy  Precision GP 0  \\\n",
       "Logistic Regression        0.534091       0.657895        0.700000   \n",
       "Support Vector             0.795455       0.578947        0.533333   \n",
       "Random Forest              0.886364       0.763158        0.833333   \n",
       "XG Boost                   0.886364       0.763158        0.750000   \n",
       "\n",
       "                     Precision GP 1  Recall GP 0  Recall GP 1  F1 Score GP 0  \\\n",
       "Logistic Regression        0.642857     0.411765     0.857143       0.518519   \n",
       "Support Vector             0.608696     0.470588     0.666667       0.500000   \n",
       "Random Forest              0.730769     0.588235     0.904762       0.689655   \n",
       "XG Boost                   0.772727     0.705882     0.809524       0.727273   \n",
       "\n",
       "                     F1 Score GP 1  \n",
       "Logistic Regression       0.734694  \n",
       "Support Vector            0.636364  \n",
       "Random Forest             0.808511  \n",
       "XG Boost                  0.790698  "
      ]
     },
     "execution_count": 33,
     "metadata": {},
     "output_type": "execute_result"
    }
   ],
   "source": [
    "df_metrics2"
   ]
  },
  {
   "cell_type": "code",
   "execution_count": 34,
   "id": "8a64e129",
   "metadata": {},
   "outputs": [],
   "source": [
    "from sklearn.model_selection import GridSearchCV"
   ]
  },
  {
   "cell_type": "code",
   "execution_count": 35,
   "id": "89c8aa73",
   "metadata": {},
   "outputs": [],
   "source": [
    "X = df2.drop('Y', axis=1)\n",
    "y = df2.Y\n",
    "X_train, X_test, y_train, y_test = train_test_split(X,y,test_size = 0.3, random_state = 5)"
   ]
  },
  {
   "cell_type": "code",
   "execution_count": 36,
   "id": "72bbcde1",
   "metadata": {},
   "outputs": [],
   "source": [
    "xgb = XGBClassifier(use_label_encoder=False, eval_metric='mlogloss')"
   ]
  },
  {
   "cell_type": "code",
   "execution_count": null,
   "id": "58e1d6d3",
   "metadata": {},
   "outputs": [
    {
     "name": "stdout",
     "output_type": "stream",
     "text": [
      "Fitting 5 folds for each of 108 candidates, totalling 540 fits\n"
     ]
    }
   ],
   "source": [
    "params = { 'max_depth': [3,5, 6],\n",
    "           'learning_rate': [0.01, 0.5, 0.6, 0.7],\n",
    "           'n_estimators': [100, 500, 1000],\n",
    "           'colsample_bytree': [0.7, 0.8, 0.9]}\n",
    "\n",
    "clf = GridSearchCV(estimator=xgb, \n",
    "                   param_grid=params,\n",
    "                   scoring='neg_mean_squared_error', \n",
    "                   verbose=1)\n",
    "\n",
    "clf.fit(X,y)\n",
    "\n",
    "print(\"Best parameters:\", clf.best_params_)"
   ]
  },
  {
   "cell_type": "code",
   "execution_count": null,
   "id": "479b7a17",
   "metadata": {},
   "outputs": [],
   "source": [
    "xgb2.fit(X_train, y_train)"
   ]
  },
  {
   "cell_type": "code",
   "execution_count": null,
   "id": "53e4341b",
   "metadata": {},
   "outputs": [],
   "source": [
    "xgb2.predict(X_train, y_train)"
   ]
  },
  {
   "cell_type": "code",
   "execution_count": null,
   "id": "9cdb87d9",
   "metadata": {},
   "outputs": [],
   "source": [
    "#train a new xgb model with the best parameters\n",
    "xgb2 = XGBClassifier(use_label_encoder=False, eval_metric='mlogloss', colsample_bytree = 0.8, learning_rate = 0.01, max_depth = 3, n_estimators = 100)"
   ]
  },
  {
   "cell_type": "code",
   "execution_count": null,
   "id": "8c256d7c",
   "metadata": {},
   "outputs": [],
   "source": [
    "#the 'best parameters' did not yield metrics better than what worked with this model previously. Why is that?\n",
    "pred = xgb2.predict(X_test) #accuracy was not able to go over 76%\n",
    "print(classification_report(y_test,pred))\n",
    "print(confusion_matrix(y_test,pred)) #The user found the learning rate .01, max-depth 3, n_estimators:100 as the best parameters."
   ]
  },
  {
   "cell_type": "code",
   "execution_count": null,
   "id": "da35369b",
   "metadata": {},
   "outputs": [],
   "source": [
    "#Concluding Remarks:\n",
    "#The user found the learning rate .01, max-depth 3, n_estimators:100 as the best parameters.\n",
    "#accuracy was not able to go over 76%. The accuracy is not able to be improved.\n",
    "#XG Boost fares better than a Random Forest model for this specific dataset in predicting customer happiness. X6 (the app makes ordering easy for me) can be excluded in the future from the questionnaire. "
   ]
  }
 ],
 "metadata": {
  "kernelspec": {
   "display_name": "Python 3 (ipykernel)",
   "language": "python",
   "name": "python3"
  },
  "language_info": {
   "codemirror_mode": {
    "name": "ipython",
    "version": 3
   },
   "file_extension": ".py",
   "mimetype": "text/x-python",
   "name": "python",
   "nbconvert_exporter": "python",
   "pygments_lexer": "ipython3",
   "version": "3.10.12"
  }
 },
 "nbformat": 4,
 "nbformat_minor": 5
}
